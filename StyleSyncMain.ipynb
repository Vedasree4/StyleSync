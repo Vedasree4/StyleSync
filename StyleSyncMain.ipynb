{
  "cells": [
    {
      "cell_type": "code",
      "execution_count": null,
      "metadata": {
        "id": "SsBMJa-bFoco"
      },
      "outputs": [],
      "source": [
        "\n",
        "!pip install kagglehub --quiet\n"
      ]
    },
    {
      "cell_type": "code",
      "execution_count": null,
      "metadata": {
        "colab": {
          "background_save": true
        },
        "id": "M8ALfsyJva57",
        "outputId": "a2f11bf8-6946-4fe5-e86a-d035bf3821ac"
      },
      "outputs": [
        {
          "name": "stdout",
          "output_type": "stream",
          "text": [
            "Downloading from https://www.kaggle.com/api/v1/datasets/download/paramaggarwal/fashion-product-images-dataset?dataset_version_number=1...\n"
          ]
        },
        {
          "name": "stderr",
          "output_type": "stream",
          "text": [
            "100%|██████████| 23.1G/23.1G [03:41<00:00, 112MB/s]"
          ]
        },
        {
          "name": "stdout",
          "output_type": "stream",
          "text": [
            "Extracting files...\n"
          ]
        },
        {
          "name": "stderr",
          "output_type": "stream",
          "text": [
            "\n"
          ]
        },
        {
          "name": "stdout",
          "output_type": "stream",
          "text": [
            "Downloading from https://www.kaggle.com/api/v1/datasets/download/paramaggarwal/fashion-product-images-small?dataset_version_number=1...\n"
          ]
        },
        {
          "name": "stderr",
          "output_type": "stream",
          "text": [
            "100%|██████████| 565M/565M [00:10<00:00, 58.2MB/s]"
          ]
        },
        {
          "name": "stdout",
          "output_type": "stream",
          "text": [
            "Extracting files...\n"
          ]
        },
        {
          "name": "stderr",
          "output_type": "stream",
          "text": [
            "\n"
          ]
        }
      ],
      "source": [
        "import kagglehub\n",
        "paramaggarwal_fashion_product_images_dataset_path = kagglehub.dataset_download('paramaggarwal/fashion-product-images-dataset')\n",
        "paramaggarwal_fashion_product_images_small_path = kagglehub.dataset_download('paramaggarwal/fashion-product-images-small')\n"
      ]
    },
    {
      "cell_type": "code",
      "execution_count": null,
      "metadata": {
        "colab": {
          "background_save": true
        },
        "id": "6T_8egoIvddj"
      },
      "outputs": [],
      "source": [
        "import pandas as pd\n",
        "import numpy as np\n",
        "import random\n",
        "import matplotlib.pyplot as plt\n",
        "import matplotlib.colors\n",
        "\n",
        "\n",
        "\n",
        "\n",
        "dataset_path = '/kaggle/input/fashion-product-images-dataset/fashion-dataset/styles.csv'\n",
        "data = pd.read_csv(dataset_path, on_bad_lines='skip')\n",
        "\n",
        "print(\"Dataset Overview:\")\n",
        "print(data.head())\n",
        "\n",
        "columns_to_keep = ['id', 'gender', 'masterCategory', 'subCategory', 'articleType', 'baseColour', 'season', 'usage']\n",
        "data = data[columns_to_keep]\n",
        "\n",
        "data.dropna(subset=['gender', 'masterCategory', 'baseColour'], inplace=True)\n",
        "data['baseColour'] = data['baseColour'].fillna('Unknown')\n",
        "\n",
        "data.columns = [col.strip().lower() for col in data.columns]\n",
        "\n",
        "print(\"\\nUnique values in gender:\", data['gender'].unique())\n",
        "print(\"Unique values in season:\", data['season'].unique())\n",
        "print(\"Unique values in usage:\", data['usage'].unique())\n"
      ]
    },
    {
      "cell_type": "code",
      "execution_count": null,
      "metadata": {
        "id": "5dfGPOrYvlLP"
      },
      "outputs": [],
      "source": [
        "\n",
        "def display_box(face, width=200, height=100):\n",
        "    display(HTML(f'<div style=\"width:{width}px; height:{height}px; background-color:{face[0]}; border: 2px solid black;\">{face[1]}</div>'))\n"
      ]
    },
    {
      "cell_type": "code",
      "execution_count": null,
      "metadata": {
        "id": "fUbiR9ydBBnl"
      },
      "outputs": [],
      "source": [
        "from IPython.display import display, Javascript\n",
        "from google.colab.output import eval_js\n",
        "from base64 import b64decode\n",
        "import cv2\n",
        "import numpy as np\n",
        "import PIL.Image\n",
        "import io\n",
        "\n",
        "def take_photo(filename='photo.jpg', quality=0.8):\n",
        "    js = Javascript('''\n",
        "        async function takePhoto(quality) {\n",
        "          const div = document.createElement('div');\n",
        "          const capture = document.createElement('button');\n",
        "          capture.textContent = '📸 Capture';\n",
        "          div.appendChild(capture);\n",
        "\n",
        "          const video = document.createElement('video');\n",
        "          video.style.display = 'block';\n",
        "          const stream = await navigator.mediaDevices.getUserMedia({video: true});\n",
        "\n",
        "          document.body.appendChild(div);\n",
        "          div.appendChild(video);\n",
        "          video.srcObject = stream;\n",
        "          await video.play();\n",
        "\n",
        "          // Resize the output to fit the video stream.\n",
        "          google.colab.output.setIframeHeight(document.documentElement.scrollHeight, true);\n",
        "\n",
        "          // Wait for Capture to be clicked.\n",
        "          await new Promise((resolve) => capture.onclick = resolve);\n",
        "\n",
        "          const canvas = document.createElement('canvas');\n",
        "          canvas.width = video.videoWidth;\n",
        "          canvas.height = video.videoHeight;\n",
        "          canvas.getContext('2d').drawImage(video, 0, 0);\n",
        "          stream.getTracks().forEach(track => track.stop());\n",
        "          div.remove();\n",
        "\n",
        "          const dataUrl = canvas.toDataURL('image/jpeg', quality);\n",
        "          return dataUrl;\n",
        "        }\n",
        "    ''')\n",
        "    display(js)\n",
        "    data = eval_js('takePhoto({})'.format(quality))\n",
        "    binary = b64decode(data.split(',')[1])\n",
        "    with open(filename, 'wb') as f:\n",
        "        f.write(binary)\n",
        "    return filename\n"
      ]
    },
    {
      "cell_type": "code",
      "execution_count": null,
      "metadata": {
        "id": "TRCgHILJ0aJc"
      },
      "outputs": [],
      "source": [
        "import cv2\n",
        "import numpy as np\n",
        "import matplotlib.pyplot as plt\n",
        "import matplotlib.colors\n",
        "from PIL import ImageColor\n",
        "from IPython.display import display, Javascript\n",
        "from google.colab.output import eval_js\n",
        "from base64 import b64decode\n",
        "\n",
        "# Skin tones dictionary\n",
        "skin_tones = {\n",
        "    \"#373028\": \"Deepest Skin\",\n",
        "    \"#422811\": \"Very Deep\",\n",
        "    \"#513B2E\": \"Deep Brown\",\n",
        "    \"#6F503C\": \"Medium Brown\",\n",
        "    \"#81654F\": \"Tan\",\n",
        "    \"#9D7A54\": \"Light Tan\",\n",
        "    \"#BEA07E\": \"Medium Fair\",\n",
        "    \"#E5C8A6\": \"Light Fair\",\n",
        "    \"#E7C1B8\": \"Warm Fair\",\n",
        "    \"#F3DAD6\": \"Very Fair\",\n",
        "    \"#FBF2F3\": \"Pale\",\n",
        "}\n",
        "\n",
        "# Skin tone detection function\n",
        "def detect_skin_tone(image):\n",
        "    image = cv2.cvtColor(image, cv2.COLOR_BGR2RGB)\n",
        "    resized_image = cv2.resize(image, (200, 200))\n",
        "    avg_color = resized_image.mean(axis=0).mean(axis=0)\n",
        "    avg_color_hex = \"#{:02x}{:02x}{:02x}\".format(int(avg_color[0]), int(avg_color[1]), int(avg_color[2]))\n",
        "    avg_color_rgb = np.array(ImageColor.getrgb(avg_color_hex))\n",
        "\n",
        "    closest_tone_hex = min(\n",
        "        skin_tones.keys(),\n",
        "        key=lambda hex_code: np.linalg.norm(avg_color_rgb - np.array(ImageColor.getrgb(hex_code)))\n",
        "    )\n",
        "    return closest_tone_hex, skin_tones[closest_tone_hex]\n",
        "\n",
        "# Face cropping and detection class\n",
        "class FaceCropper:\n",
        "    def __init__(self):\n",
        "        self.face_cascade = cv2.CascadeClassifier(cv2.data.haarcascades + \"haarcascade_frontalface_default.xml\")\n",
        "\n",
        "    def generate(self, image_path, show_result=True):\n",
        "        img = cv2.imread(image_path)\n",
        "        if img is None:\n",
        "            print(\"❌ Could not open image.\")\n",
        "            return None, None\n",
        "\n",
        "        gray = cv2.cvtColor(img, cv2.COLOR_BGR2GRAY)\n",
        "        faces = self.face_cascade.detectMultiScale(gray, scaleFactor=1.1, minNeighbors=5, minSize=(100, 100))\n",
        "\n",
        "        if len(faces) == 0:\n",
        "            print(\"❌ No faces detected.\")\n",
        "            return None, None\n",
        "\n",
        "        if show_result:\n",
        "            img_rgb = cv2.cvtColor(img, cv2.COLOR_BGR2RGB)\n",
        "            cropped_faces = []\n",
        "\n",
        "            for (x, y, w, h) in faces:\n",
        "                face_img = img[y:y+h, x:x+w]\n",
        "                resized_face = cv2.resize(face_img, (200, 200))\n",
        "                cropped_faces.append((resized_face, (x, y, w, h)))\n",
        "                cv2.rectangle(img_rgb, (x, y), (x + w, y + h), (255, 0, 0), 2)\n",
        "\n",
        "            fig, ax = plt.subplots(1, 3, figsize=(16, 6))\n",
        "            ax[0].imshow(img_rgb)\n",
        "            ax[0].axis('off')\n",
        "            ax[0].set_title('Original with Face Detection')\n",
        "\n",
        "            zoomed_face, _ = cropped_faces[0]\n",
        "            zoomed_face_rgb = cv2.cvtColor(zoomed_face, cv2.COLOR_BGR2RGB)\n",
        "            ax[1].imshow(zoomed_face_rgb)\n",
        "            ax[1].axis('off')\n",
        "            ax[1].set_title('Cropped Face')\n",
        "\n",
        "            skin_hex, tone_name = detect_skin_tone(zoomed_face)\n",
        "            tone_rgb = matplotlib.colors.hex2color(skin_hex)\n",
        "            tone_block = np.ones((10, 10, 3)) * tone_rgb\n",
        "            ax[2].imshow(tone_block)\n",
        "            ax[2].axis('off')\n",
        "            ax[2].set_title(f\"Skin Tone: {tone_name} ({skin_hex})\")\n",
        "\n",
        "            plt.show()\n",
        "        else:\n",
        "            # If not showing result, still detect skin tone on first face\n",
        "            zoomed_face = img[faces[0][1]:faces[0][1]+faces[0][3], faces[0][0]:faces[0][0]+faces[0][2]]\n",
        "            zoomed_face = cv2.resize(zoomed_face, (200, 200))\n",
        "            skin_hex, tone_name = detect_skin_tone(zoomed_face)\n",
        "\n",
        "        # Save faces as 32x32 images\n",
        "        for i, (x, y, w, h) in enumerate(faces, start=1):\n",
        "            face_img = img[y:y + h, x:x + w]\n",
        "            resized = cv2.resize(face_img, (32, 32))\n",
        "            cv2.imwrite(f\"image{i}.jpg\", resized)\n",
        "        print(f\"✅ {len(faces)} face(s) detected and saved.\")\n",
        "\n",
        "        return skin_hex, tone_name\n",
        "\n",
        "# Webcam capture function for Google Colab\n",
        "def take_photo(filename='photo.jpg', quality=0.8):\n",
        "    js = Javascript('''\n",
        "    async function takePhoto(quality) {\n",
        "      const div = document.createElement('div');\n",
        "      const capture = document.createElement('button');\n",
        "      capture.textContent = '📸 Capture';\n",
        "      div.appendChild(capture);\n",
        "\n",
        "      const video = document.createElement('video');\n",
        "      video.style.display = 'block';\n",
        "      const stream = await navigator.mediaDevices.getUserMedia({video: true});\n",
        "\n",
        "      document.body.appendChild(div);\n",
        "      div.appendChild(video);\n",
        "      video.srcObject = stream;\n",
        "      await video.play();\n",
        "\n",
        "      google.colab.output.setIframeHeight(document.documentElement.scrollHeight, true);\n",
        "\n",
        "      await new Promise((resolve) => capture.onclick = resolve);\n",
        "\n",
        "      const canvas = document.createElement('canvas');\n",
        "      canvas.width = video.videoWidth;\n",
        "      canvas.height = video.videoHeight;\n",
        "      canvas.getContext('2d').drawImage(video, 0, 0);\n",
        "      stream.getTracks().forEach(track => track.stop());\n",
        "      div.remove();\n",
        "\n",
        "      const dataUrl = canvas.toDataURL('image/jpeg', quality);\n",
        "      return dataUrl;\n",
        "    }\n",
        "    ''')\n",
        "    display(js)\n",
        "    data = eval_js('takePhoto({})'.format(quality))\n",
        "    binary = b64decode(data.split(',')[1])\n",
        "    with open(filename, 'wb') as f:\n",
        "        f.write(binary)\n",
        "    return filename\n",
        "\n",
        "# User input for image source\n",
        "choice = input(\"📸 Enter 'w' for webcam or 'u' to upload an image: \").strip().lower()\n",
        "\n",
        "if choice == 'w':\n",
        "    print(\"📷 Capturing from webcam...\")\n",
        "    image_path = take_photo()\n",
        "elif choice == 'u':\n",
        "    from google.colab import files\n",
        "    uploaded = files.upload()\n",
        "    image_path = list(uploaded.keys())[0]\n",
        "else:\n",
        "    print(\"❌ Invalid option.\")\n",
        "    image_path = None\n",
        "\n",
        "if image_path:\n",
        "    detector = FaceCropper()\n",
        "    detected_tone_hex, detected_tone_name = detector.generate(image_path)\n",
        "\n",
        "    if detected_tone_hex is not None:\n",
        "        skin_tone_to_color_mapping = {\n",
        "            \"#373028\": [\"Navy Blue\", \"Black\", \"Charcoal\", \"Burgundy\", \"Maroon\", \"Olive\", \"Rust\", \"Gold\", \"Cream\", \"Peach\"],\n",
        "            \"#422811\": [\"Navy Blue\", \"Brown\", \"Khaki\", \"Olive\", \"Maroon\", \"Mustard\", \"Teal\", \"Tan\", \"Rust\", \"Burgundy\"],\n",
        "            \"#513B2E\": [\"Cream\", \"Beige\", \"Olive\", \"Burgundy\", \"Red\", \"Orange\", \"Mustard\", \"Bronze\", \"Teal\", \"Peach\"],\n",
        "            \"#6F503C\": [\"Beige\", \"Brown\", \"Green\", \"Khaki\", \"Cream\", \"Peach\", \"Lime Green\", \"Olive\", \"Maroon\", \"Rust\", \"Mustard\"],\n",
        "            \"#81654F\": [\"Beige\", \"Off White\", \"Sea Green\", \"Cream\", \"Lavender\", \"Mauve\", \"Burgundy\", \"Yellow\", \"Lime Green\"],\n",
        "            \"#9D7A54\": [\"Olive\", \"Khaki\", \"Yellow\", \"Sea Green\", \"Turquoise Blue\", \"Coral\", \"White\", \"Gold\", \"Peach\"],\n",
        "            \"#BEA07E\": [\"Coral\", \"Sea Green\", \"Turquoise Blue\", \"Pink\", \"Lavender\", \"Rose\", \"White\", \"Peach\", \"Teal\", \"Fluorescent Green\"],\n",
        "            \"#E5C8A6\": [\"Turquoise Blue\", \"Peach\", \"Teal\", \"Pink\", \"Red\", \"Rose\", \"Off White\", \"White\", \"Cream\", \"Gold\", \"Yellow\"],\n",
        "            \"#E7C1B8\": [\"Pink\", \"Rose\", \"Peach\", \"White\", \"Off White\", \"Beige\", \"Lavender\", \"Teal\", \"Fluorescent Green\"],\n",
        "            \"#F3DAD6\": [\"White\", \"Cream\", \"Peach\", \"Pink\", \"Rose\", \"Lavender\", \"Mustard\", \"Lime Green\", \"Light Blue\", \"Fluorescent Green\"],\n",
        "            \"#FBF2F3\": [\"Soft Pastels (Peach, Lavender, Pink)\", \"White\", \"Off White\", \"Rose\", \"Light Blue\", \"Sea Green\", \"Fluorescent Green\", \"Silver\", \"Cream\", \"Tan\"]\n",
        "        }\n",
        "\n",
        "        recommended_colors = skin_tone_to_color_mapping.get(detected_tone_hex, [])\n",
        "\n",
        "        print(f\"Recommended Colors for {detected_tone_hex} ({detected_tone_name}): {recommended_colors}\")\n",
        "    else:\n",
        "        print(\"Could not detect skin tone.\")\n"
      ]
    },
    {
      "cell_type": "code",
      "execution_count": null,
      "metadata": {
        "colab": {
          "base_uri": "https://localhost:8080/",
          "height": 1000
        },
        "id": "pgVxtJSTx-2s",
        "outputId": "d815a9ce-e57e-4a02-b26a-47ec651bcfc3"
      },
      "outputs": [
        {
          "name": "stdout",
          "output_type": "stream",
          "text": [
            "Please enter your gender (Men/Women): Women\n",
            "Filtered items - Topwear: 15, Bottomwear: 37, Footwear: 1674\n",
            "Outfit 1\n"
          ]
        },
        {
          "data": {
            "text/html": [
              "\n",
              "    <div style=\"display: flex; justify-content: space-evenly; align-items: center;\">\n",
              "        <div style=\"text-align: center;\">\n",
              "            <h3>Topwear</h3>\n",
              "            <img src=\"http://assets.myntassets.com/v1/images/style/properties/5a5d16f8125c9f333cf8f590311be43d_images.jpg\" width=\"200px\" />\n",
              "        </div>\n",
              "        <div style=\"text-align: center;\">\n",
              "            <h3>Bottomwear</h3>\n",
              "            <img src=\"http://assets.myntassets.com/v1/images/style/properties/Arrow-Woman-Grey-Trousers_9003f8965569a0258b7a48d1a89acccf_images.jpg\" width=\"200px\" />\n",
              "        </div>\n",
              "        <div style=\"text-align: center;\">\n",
              "            <h3>Footwear</h3>\n",
              "            <img src=\"http://assets.myntassets.com/v1/images/style/properties/7de650b81e8fd8be54794b6f466f3b8e_images.jpg\" width=\"200px\" />\n",
              "        </div>\n",
              "    </div>\n",
              "    "
            ],
            "text/plain": [
              "<IPython.core.display.HTML object>"
            ]
          },
          "metadata": {},
          "output_type": "display_data"
        },
        {
          "name": "stdout",
          "output_type": "stream",
          "text": [
            "Outfit 2\n"
          ]
        },
        {
          "data": {
            "text/html": [
              "\n",
              "    <div style=\"display: flex; justify-content: space-evenly; align-items: center;\">\n",
              "        <div style=\"text-align: center;\">\n",
              "            <h3>Topwear</h3>\n",
              "            <img src=\"http://assets.myntassets.com/v1/images/style/properties/34f7924b730bb5bd1d9ec5fa0f2a8df6_images.jpg\" width=\"200px\" />\n",
              "        </div>\n",
              "        <div style=\"text-align: center;\">\n",
              "            <h3>Bottomwear</h3>\n",
              "            <img src=\"http://assets.myntassets.com/v1/images/style/properties/Van-Heusen-Woman-Grey-Straight-Fit-Trousers_7322b67014ff3c6028405b08cce8aaaf_images.jpg\" width=\"200px\" />\n",
              "        </div>\n",
              "        <div style=\"text-align: center;\">\n",
              "            <h3>Footwear</h3>\n",
              "            <img src=\"http://assets.myntassets.com/v1/images/style/properties/dedbae54d5a67c52c6b08cb832f50622_images.jpg\" width=\"200px\" />\n",
              "        </div>\n",
              "    </div>\n",
              "    "
            ],
            "text/plain": [
              "<IPython.core.display.HTML object>"
            ]
          },
          "metadata": {},
          "output_type": "display_data"
        },
        {
          "name": "stdout",
          "output_type": "stream",
          "text": [
            "Outfit 3\n"
          ]
        },
        {
          "data": {
            "text/html": [
              "\n",
              "    <div style=\"display: flex; justify-content: space-evenly; align-items: center;\">\n",
              "        <div style=\"text-align: center;\">\n",
              "            <h3>Topwear</h3>\n",
              "            <img src=\"http://assets.myntassets.com/v1/images/style/properties/a2826334fe816ee0e95ce93b8aabc90d_images.jpg\" width=\"200px\" />\n",
              "        </div>\n",
              "        <div style=\"text-align: center;\">\n",
              "            <h3>Bottomwear</h3>\n",
              "            <img src=\"http://assets.myntassets.com/v1/images/style/properties/9f8ac4fadc8071097f300d27eaa174ea_images.jpg\" width=\"200px\" />\n",
              "        </div>\n",
              "        <div style=\"text-align: center;\">\n",
              "            <h3>Footwear</h3>\n",
              "            <img src=\"http://assets.myntassets.com/v1/images/style/properties/Rocia-Women-Brown-Sandals_3a40e00dee9152dc562fe36fca7553cc_images.jpg\" width=\"200px\" />\n",
              "        </div>\n",
              "    </div>\n",
              "    "
            ],
            "text/plain": [
              "<IPython.core.display.HTML object>"
            ]
          },
          "metadata": {},
          "output_type": "display_data"
        },
        {
          "name": "stdout",
          "output_type": "stream",
          "text": [
            "Outfit 4\n"
          ]
        },
        {
          "data": {
            "text/html": [
              "\n",
              "    <div style=\"display: flex; justify-content: space-evenly; align-items: center;\">\n",
              "        <div style=\"text-align: center;\">\n",
              "            <h3>Topwear</h3>\n",
              "            <img src=\"http://assets.myntassets.com/v1/images/style/properties/14bfa5ebb7ca9804880ef268b7b8b415_images.jpg\" width=\"200px\" />\n",
              "        </div>\n",
              "        <div style=\"text-align: center;\">\n",
              "            <h3>Bottomwear</h3>\n",
              "            <img src=\"http://assets.myntassets.com/v1/images/style/properties/Van-Heusen-Woman-Grey-Skirt_0b13fbeca88ccc057446800e227af15f_images.jpg\" width=\"200px\" />\n",
              "        </div>\n",
              "        <div style=\"text-align: center;\">\n",
              "            <h3>Footwear</h3>\n",
              "            <img src=\"http://assets.myntassets.com/v1/images/style/properties/2c7a995d8ed4d42a9803a68ed652ba4b_images.jpg\" width=\"200px\" />\n",
              "        </div>\n",
              "    </div>\n",
              "    "
            ],
            "text/plain": [
              "<IPython.core.display.HTML object>"
            ]
          },
          "metadata": {},
          "output_type": "display_data"
        },
        {
          "name": "stdout",
          "output_type": "stream",
          "text": [
            "Outfit 5\n"
          ]
        },
        {
          "data": {
            "text/html": [
              "\n",
              "    <div style=\"display: flex; justify-content: space-evenly; align-items: center;\">\n",
              "        <div style=\"text-align: center;\">\n",
              "            <h3>Topwear</h3>\n",
              "            <img src=\"http://assets.myntassets.com/v1/images/style/properties/bb57877bfd521c261b60a58ab6e55977_images.jpg\" width=\"200px\" />\n",
              "        </div>\n",
              "        <div style=\"text-align: center;\">\n",
              "            <h3>Bottomwear</h3>\n",
              "            <img src=\"http://assets.myntassets.com/v1/images/style/properties/United-Colors-of-Benetton-Women-Black-Trouser_ec13e50e140d6aed0cb7455227c1154d_images.jpg\" width=\"200px\" />\n",
              "        </div>\n",
              "        <div style=\"text-align: center;\">\n",
              "            <h3>Footwear</h3>\n",
              "            <img src=\"http://assets.myntassets.com/v1/images/style/properties/a76c2bf247061dd389cf6ce4d8212dae_images.jpg\" width=\"200px\" />\n",
              "        </div>\n",
              "    </div>\n",
              "    "
            ],
            "text/plain": [
              "<IPython.core.display.HTML object>"
            ]
          },
          "metadata": {},
          "output_type": "display_data"
        }
      ],
      "source": [
        "import pandas as pd\n",
        "import random\n",
        "\n",
        "user_gender = input(\"Please enter your gender (Men/Women): \").strip().capitalize()\n",
        "\n",
        "if user_gender not in ['Men', 'Women']:\n",
        "    print(\"Invalid input. Defaulting to 'Women'.\")\n",
        "    user_gender = 'Women'\n",
        "\n",
        "filtered_data = data[data['gender'] == user_gender]\n",
        "\n",
        "\n",
        "gender_filter = 'Women'\n",
        "user_usage = [\"Formal\"]\n",
        "footwear_type = \"Casual\"\n",
        "recommended_colors.extend([\"Black\", \"White\", \"Beige\", \"Cream\", \"Off White\", \"Grey\", \"Charcoal\"])\n",
        "\n",
        "filtered_data = filtered_data[filtered_data['basecolour'].isin(recommended_colors)]\n",
        "\n",
        "top_wear = filtered_data[filtered_data['subcategory'] == 'Topwear']\n",
        "top_wear = top_wear[top_wear['usage'].isin(user_usage)]\n",
        "\n",
        "bottom_wear = filtered_data[filtered_data['subcategory'] == 'Bottomwear']\n",
        "bottom_wear = bottom_wear[bottom_wear['usage'].isin(user_usage)]\n",
        "\n",
        "footwear = filtered_data[filtered_data['mastercategory'] == 'Footwear']\n",
        "\n",
        "if \"Formal\" in user_usage:\n",
        "    footwear = footwear[footwear['subcategory'].isin(['Shoes'])]\n",
        "\n",
        "print(f\"Filtered items - Topwear: {len(top_wear)}, Bottomwear: {len(bottom_wear)}, Footwear: {len(footwear)}\")\n",
        "\n",
        "def get_complementary(color, palette):\n",
        "    \"\"\"Return a complementary color if available in the palette.\"\"\"\n",
        "    return random.choice([c for c in palette if c != color])\n",
        "\n",
        "def get_analogous(color, palette):\n",
        "    \"\"\"Return an analogous color if available in the palette.\"\"\"\n",
        "    return random.choice([c for c in palette if c != color])\n",
        "\n",
        "def get_neutral(palette):\n",
        "    \"\"\"Return a neutral color from the palette.\"\"\"\n",
        "    neutrals = [\"Black\", \"White\", \"Beige\", \"Cream\", \"Off White\", \"Grey\", \"Charcoal\"]\n",
        "    return random.choice([c for c in palette if c in neutrals])\n",
        "\n",
        "outfit_combinations = []\n",
        "for top in top_wear.head(10).itertuples():\n",
        "    for bottom in bottom_wear.head(100).itertuples():\n",
        "        for foot in footwear.head(100).itertuples():\n",
        "            bottom_color = get_complementary(top.basecolour, recommended_colors)\n",
        "            footwear_color = random.choice([get_analogous(bottom_color, recommended_colors), get_neutral(recommended_colors)])\n",
        "\n",
        "            outfit_combinations.append({\n",
        "                \"Topwear\": top.id,\n",
        "                \"Bottomwear\": bottom.id,\n",
        "                \"Footwear\": foot.id,\n",
        "                \"Topwear Color\": top.basecolour,\n",
        "                \"Bottomwear Color\": bottom_color,\n",
        "                \"Footwear Color\": footwear_color\n",
        "            })\n",
        "\n",
        "\n",
        "\n",
        "images_links = pd.read_csv(\"/kaggle/input/fashion-product-images-dataset/fashion-dataset/images.csv\", on_bad_lines='skip')\n",
        "random_combinations = random.sample(outfit_combinations, min(len(outfit_combinations), 5))\n",
        "from IPython.display import display, HTML, Image\n",
        "\n",
        "def display_combination_images(top_id, bottom_id, foot_id):\n",
        "    top_img = list(images_links[images_links['filename'] == str(top_id) + \".jpg\"].link)[0]\n",
        "    bottom_img = list(images_links[images_links['filename'] == str(bottom_id) + \".jpg\"].link)[0]\n",
        "    foot_img = list(images_links[images_links['filename'] == str(foot_id) + \".jpg\"].link)[0]\n",
        "\n",
        "\n",
        "    html_code = f\"\"\"\n",
        "    <div style=\"display: flex; justify-content: space-evenly; align-items: center;\">\n",
        "        <div style=\"text-align: center;\">\n",
        "            <h3>Topwear</h3>\n",
        "            <img src=\"{top_img}\" width=\"200px\" />\n",
        "        </div>\n",
        "        <div style=\"text-align: center;\">\n",
        "            <h3>Bottomwear</h3>\n",
        "            <img src=\"{bottom_img}\" width=\"200px\" />\n",
        "        </div>\n",
        "        <div style=\"text-align: center;\">\n",
        "            <h3>Footwear</h3>\n",
        "            <img src=\"{foot_img}\" width=\"200px\" />\n",
        "        </div>\n",
        "    </div>\n",
        "    \"\"\"\n",
        "\n",
        "    display(HTML(html_code))\n",
        "\n",
        "\n",
        "\n",
        "\n",
        "for i, combo in enumerate(random_combinations):\n",
        "    print(f\"Outfit {i + 1}\")\n",
        "    display_combination_images(combo['Topwear'],combo['Bottomwear'],combo['Footwear'])\n"
      ]
    },
    {
      "cell_type": "code",
      "execution_count": null,
      "metadata": {
        "id": "nScSLDgxyy69"
      },
      "outputs": [],
      "source": []
    }
  ],
  "metadata": {
    "colab": {
      "provenance": []
    },
    "kernelspec": {
      "display_name": "Python 3",
      "name": "python3"
    },
    "language_info": {
      "name": "python"
    }
  },
  "nbformat": 4,
  "nbformat_minor": 0
}